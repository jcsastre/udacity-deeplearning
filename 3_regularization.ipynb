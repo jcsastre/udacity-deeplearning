{
 "cells": [
  {
   "cell_type": "markdown",
   "metadata": {
    "colab_type": "text",
    "id": "kR-4eNdK6lYS"
   },
   "source": [
    "# Deep Learning - Assignment 3\n",
    "\n",
    "Previously in `2_fullyconnected.ipynb`, you trained a logistic regression and a neural network model.\n",
    "\n",
    "The goal of this assignment is to explore regularization techniques."
   ]
  },
  {
   "cell_type": "markdown",
   "metadata": {
    "collapsed": true
   },
   "source": [
    "## Process Data"
   ]
  },
  {
   "cell_type": "code",
   "execution_count": 1,
   "metadata": {
    "cellView": "both",
    "colab": {
     "autoexec": {
      "startup": false,
      "wait_interval": 0
     }
    },
    "colab_type": "code",
    "collapsed": true,
    "id": "JLpLa8Jt7Vu4"
   },
   "outputs": [],
   "source": [
    "# These are all the modules we'll be using later. Make sure you can import them\n",
    "# before proceeding further.\n",
    "from __future__ import print_function\n",
    "import numpy as np\n",
    "import tensorflow as tf\n",
    "from six.moves import cPickle as pickle"
   ]
  },
  {
   "cell_type": "markdown",
   "metadata": {
    "colab_type": "text",
    "id": "1HrCK6e17WzV"
   },
   "source": [
    "First reload the data we generated in _notmist.ipynb_."
   ]
  },
  {
   "cell_type": "code",
   "execution_count": 2,
   "metadata": {
    "cellView": "both",
    "colab": {
     "autoexec": {
      "startup": false,
      "wait_interval": 0
     },
     "output_extras": [
      {
       "item_id": 1
      }
     ]
    },
    "colab_type": "code",
    "collapsed": false,
    "executionInfo": {
     "elapsed": 11777,
     "status": "ok",
     "timestamp": 1449849322348,
     "user": {
      "color": "",
      "displayName": "",
      "isAnonymous": false,
      "isMe": true,
      "permissionId": "",
      "photoUrl": "",
      "sessionId": "0",
      "userId": ""
     },
     "user_tz": 480
    },
    "id": "y3-cj1bpmuxc",
    "outputId": "e03576f1-ebbe-4838-c388-f1777bcc9873"
   },
   "outputs": [
    {
     "name": "stdout",
     "output_type": "stream",
     "text": [
      "Training set (200000, 28, 28) (200000,)\n",
      "Validation set (10000, 28, 28) (10000,)\n",
      "Test set (10000, 28, 28) (10000,)\n"
     ]
    }
   ],
   "source": [
    "pickle_file = 'notMNIST.pickle'\n",
    "\n",
    "with open(pickle_file, 'rb') as f:\n",
    "  save = pickle.load(f)\n",
    "  train_dataset = save['train_dataset']\n",
    "  train_labels = save['train_labels']\n",
    "  valid_dataset = save['valid_dataset']\n",
    "  valid_labels = save['valid_labels']\n",
    "  test_dataset = save['test_dataset']\n",
    "  test_labels = save['test_labels']\n",
    "  del save  # hint to help gc free up memory\n",
    "  print('Training set', train_dataset.shape, train_labels.shape)\n",
    "  print('Validation set', valid_dataset.shape, valid_labels.shape)\n",
    "  print('Test set', test_dataset.shape, test_labels.shape)"
   ]
  },
  {
   "cell_type": "markdown",
   "metadata": {
    "colab_type": "text",
    "id": "L7aHrm6nGDMB"
   },
   "source": [
    "Reformat into a shape that's more adapted to the models we're going to train:\n",
    "- data as a flat matrix,\n",
    "- labels as float 1-hot encodings."
   ]
  },
  {
   "cell_type": "code",
   "execution_count": 3,
   "metadata": {
    "cellView": "both",
    "colab": {
     "autoexec": {
      "startup": false,
      "wait_interval": 0
     },
     "output_extras": [
      {
       "item_id": 1
      }
     ]
    },
    "colab_type": "code",
    "collapsed": false,
    "executionInfo": {
     "elapsed": 11728,
     "status": "ok",
     "timestamp": 1449849322356,
     "user": {
      "color": "",
      "displayName": "",
      "isAnonymous": false,
      "isMe": true,
      "permissionId": "",
      "photoUrl": "",
      "sessionId": "0",
      "userId": ""
     },
     "user_tz": 480
    },
    "id": "IRSyYiIIGIzS",
    "outputId": "3f8996ee-3574-4f44-c953-5c8a04636582"
   },
   "outputs": [
    {
     "name": "stdout",
     "output_type": "stream",
     "text": [
      "Training set (200000, 784) (200000, 10)\n",
      "Validation set (10000, 784) (10000, 10)\n",
      "Test set (10000, 784) (10000, 10)\n"
     ]
    }
   ],
   "source": [
    "image_size = 28\n",
    "num_labels = 10\n",
    "\n",
    "def reformat(dataset, labels):\n",
    "  dataset = dataset.reshape((-1, image_size * image_size)).astype(np.float32)\n",
    "  # Map 1 to [0.0, 1.0, 0.0 ...], 2 to [0.0, 0.0, 1.0 ...]\n",
    "  labels = (np.arange(num_labels) == labels[:,None]).astype(np.float32)\n",
    "  return dataset, labels\n",
    "train_dataset, train_labels = reformat(train_dataset, train_labels)\n",
    "valid_dataset, valid_labels = reformat(valid_dataset, valid_labels)\n",
    "test_dataset, test_labels = reformat(test_dataset, test_labels)\n",
    "print('Training set', train_dataset.shape, train_labels.shape)\n",
    "print('Validation set', valid_dataset.shape, valid_labels.shape)\n",
    "print('Test set', test_dataset.shape, test_labels.shape)"
   ]
  },
  {
   "cell_type": "code",
   "execution_count": 4,
   "metadata": {
    "cellView": "both",
    "colab": {
     "autoexec": {
      "startup": false,
      "wait_interval": 0
     }
    },
    "colab_type": "code",
    "collapsed": true,
    "id": "RajPLaL_ZW6w"
   },
   "outputs": [],
   "source": [
    "def accuracy(predictions, labels):\n",
    "  return (100.0 * np.sum(np.argmax(predictions, 1) == np.argmax(labels, 1))\n",
    "          / predictions.shape[0])"
   ]
  },
  {
   "cell_type": "markdown",
   "metadata": {
    "colab_type": "text",
    "id": "sgLbUAQ1CW-1"
   },
   "source": [
    "## Problem 1 - L2 Regularizaton\n",
    "\n",
    "Introduce and tune L2 regularization for both logistic and neural network models. Remember that L2 amounts to adding a penalty on the norm of the weights to the loss. In TensorFlow, you can compute the L2 loss for a tensor `t` using `nn.l2_loss(t)`. The right amount of regularization should improve your validation / test accuracy.\n",
    "\n",
    "---"
   ]
  },
  {
   "cell_type": "code",
   "execution_count": 5,
   "metadata": {
    "collapsed": false
   },
   "outputs": [],
   "source": [
    "##################################################\n",
    "# SGD with 1-hidden layer n.n. with RUL's and L2 #\n",
    "##################################################\n",
    "\n",
    "batch_size = 128\n",
    "hidden1_units = 1024\n",
    "beta = 0.003\n",
    "\n",
    "graph = tf.Graph()\n",
    "with graph.as_default():\n",
    "    \n",
    "    # Input data. For the training data, we use a placeholder that will be fed\n",
    "    # at run time with a training minibatch.\n",
    "    tf_train_dataset = tf.placeholder(tf.float32, shape=(batch_size, image_size * image_size))\n",
    "    tf_train_labels = tf.placeholder(tf.float32, shape=(batch_size, num_labels))\n",
    "    tf_valid_dataset = tf.constant(valid_dataset)\n",
    "    tf_test_dataset = tf.constant(test_dataset)\n",
    "\n",
    "    # Set hidden layer 1\n",
    "    weights1 = tf.Variable(tf.truncated_normal([image_size * image_size, hidden1_units]))\n",
    "    biases1 = tf.Variable(tf.zeros([hidden1_units]))\n",
    "    hidden1 = tf.nn.relu(tf.matmul(tf_train_dataset, weights1) + biases1)\n",
    "\n",
    "    # Set final layer variables\n",
    "    weights = tf.Variable(tf.truncated_normal([hidden1_units, num_labels]))\n",
    "    biases = tf.Variable(tf.zeros([num_labels]))\n",
    "    \n",
    "    # Training computation.\n",
    "    logits = tf.matmul(hidden1, weights) + biases\n",
    "    loss = tf.reduce_mean(tf.nn.softmax_cross_entropy_with_logits(logits, tf_train_labels))\n",
    "    loss = loss + 0.5*beta*(tf.nn.l2_loss(weights1) + tf.nn.l2_loss(weights))\n",
    "\n",
    "    # Optimizer.\n",
    "    optimizer = tf.train.GradientDescentOptimizer(0.5).minimize(loss)\n",
    "\n",
    "    # Predictions for the training, validation, and test data.\n",
    "    train_prediction = tf.nn.softmax(logits)\n",
    "\n",
    "    ## validation operation\n",
    "    valid_prediction1 = tf.nn.relu(tf.matmul(tf_valid_dataset, weights1) + biases1)\n",
    "    valid_prediction = tf.nn.softmax(tf.matmul(valid_prediction1, weights) + biases)\n",
    "\n",
    "    #test operation\n",
    "    test_prediction1 = tf.nn.relu(tf.matmul(tf_test_dataset,weights1) + biases1)\n",
    "    test_prediction = tf.nn.softmax(tf.matmul(test_prediction1, weights) + biases)"
   ]
  },
  {
   "cell_type": "code",
   "execution_count": 6,
   "metadata": {
    "collapsed": false
   },
   "outputs": [
    {
     "name": "stdout",
     "output_type": "stream",
     "text": [
      "Initialized\n",
      "\n",
      "At step 0 \n",
      "-----------\n",
      "Minibatch loss 823.064087\n",
      "Minibatch accuracy: 9.4%\n",
      "Validation accuracy: 25.8%\n",
      "\n",
      "At step 500 \n",
      "-----------\n",
      "Minibatch loss 227.338348\n",
      "Minibatch accuracy: 82.8%\n",
      "Validation accuracy: 78.7%\n",
      "\n",
      "At step 1000 \n",
      "-----------\n",
      "Minibatch loss 103.818794\n",
      "Minibatch accuracy: 78.9%\n",
      "Validation accuracy: 82.2%\n",
      "\n",
      "At step 1500 \n",
      "-----------\n",
      "Minibatch loss 48.614143\n",
      "Minibatch accuracy: 85.2%\n",
      "Validation accuracy: 85.0%\n",
      "\n",
      "At step 2000 \n",
      "-----------\n",
      "Minibatch loss 23.152588\n",
      "Minibatch accuracy: 89.8%\n",
      "Validation accuracy: 86.7%\n",
      "\n",
      "At step 2500 \n",
      "-----------\n",
      "Minibatch loss 11.205336\n",
      "Minibatch accuracy: 84.4%\n",
      "Validation accuracy: 87.7%\n",
      "\n",
      "At step 3000 \n",
      "-----------\n",
      "Minibatch loss 5.647856\n",
      "Minibatch accuracy: 83.6%\n",
      "Validation accuracy: 88.0%\n",
      "\n",
      "Test accuracy: 93.5%\n",
      "\n",
      "Spend seconds: 12\n"
     ]
    }
   ],
   "source": [
    "from time import time\n",
    "start = time()\n",
    "\n",
    "num_steps = 3001\n",
    "\n",
    "with tf.Session(graph=graph) as session:\n",
    "    \n",
    "    tf.initialize_all_variables().run()\n",
    "    print(\"Initialized\")\n",
    "    print('')\n",
    "    \n",
    "    for step in range(num_steps):\n",
    "        \n",
    "        # Pick an offset within the training data, which has been randomized.\n",
    "        # Note: we could use better randomization across epochs.\n",
    "        offset = (step * batch_size) % (train_labels.shape[0] - batch_size)\n",
    "        \n",
    "        # Generate a minibatch.\n",
    "        batch_data = train_dataset[offset:(offset + batch_size), :]\n",
    "        batch_labels = train_labels[offset:(offset + batch_size), :]\n",
    "        \n",
    "        # Prepare a dictionary telling the session where to feed the minibatch.\n",
    "        # The key of the dictionary is the placeholder node of the graph to be fed,\n",
    "        # and the value is the numpy array to feed to it.\n",
    "        feed_dict = {tf_train_dataset : batch_data, tf_train_labels : batch_labels}\n",
    "        _, l, predictions = session.run([optimizer, loss, train_prediction], feed_dict=feed_dict)\n",
    "\n",
    "        if (step % 500 == 0):\n",
    "            print('At step %d ' % step)\n",
    "            print('-----------')\n",
    "            print(\"Minibatch loss %f\" % l)\n",
    "            print(\"Minibatch accuracy: %.1f%%\" % accuracy(predictions, batch_labels))\n",
    "            print(\"Validation accuracy: %.1f%%\" % accuracy(valid_prediction.eval(), valid_labels))\n",
    "            print('')\n",
    "        \n",
    "    print(\"Test accuracy: %.1f%%\" % accuracy(test_prediction.eval(), test_labels))\n",
    "\n",
    "end = time()\n",
    "print('')\n",
    "print('Spend seconds: %d' % (end - start))"
   ]
  },
  {
   "cell_type": "markdown",
   "metadata": {
    "colab_type": "text",
    "id": "na8xX2yHZzNF"
   },
   "source": [
    "##  Problem 2 - Restrict your training data\n",
    "\n",
    "Let's demonstrate an extreme case of overfitting. Restrict your training data to just a few batches. What happens?\n",
    "\n",
    "---"
   ]
  },
  {
   "cell_type": "code",
   "execution_count": 7,
   "metadata": {
    "collapsed": true
   },
   "outputs": [],
   "source": [
    "##################################################\n",
    "# SGD with 1-hidden layer n.n. with RUL's and L2 #\n",
    "##################################################\n",
    "# Few batches #\n",
    "###############\n",
    "\n",
    "batch_size = 5\n",
    "hidden1_units = 1024\n",
    "beta = 0.003\n",
    "\n",
    "graph = tf.Graph()\n",
    "with graph.as_default():\n",
    "    \n",
    "    # Input data. For the training data, we use a placeholder that will be fed\n",
    "    # at run time with a training minibatch.\n",
    "    tf_train_dataset = tf.placeholder(tf.float32, shape=(batch_size, image_size * image_size))\n",
    "    tf_train_labels = tf.placeholder(tf.float32, shape=(batch_size, num_labels))\n",
    "    tf_valid_dataset = tf.constant(valid_dataset)\n",
    "    tf_test_dataset = tf.constant(test_dataset)\n",
    "\n",
    "    # Set hidden layer 1\n",
    "    weights1 = tf.Variable(tf.truncated_normal([image_size * image_size, hidden1_units]))\n",
    "    biases1 = tf.Variable(tf.zeros([hidden1_units]))\n",
    "    hidden1 = tf.nn.relu(tf.matmul(tf_train_dataset, weights1) + biases1)\n",
    "\n",
    "    # Set final layer variables\n",
    "    weights = tf.Variable(tf.truncated_normal([hidden1_units, num_labels]))\n",
    "    biases = tf.Variable(tf.zeros([num_labels]))\n",
    "    \n",
    "    # Training computation.\n",
    "    logits = tf.matmul(hidden1, weights) + biases\n",
    "    loss = tf.reduce_mean(tf.nn.softmax_cross_entropy_with_logits(logits, tf_train_labels))\n",
    "    loss = loss + 0.5*beta*(tf.nn.l2_loss(weights1) + tf.nn.l2_loss(weights))\n",
    "\n",
    "    # Optimizer.\n",
    "    optimizer = tf.train.GradientDescentOptimizer(0.5).minimize(loss)\n",
    "\n",
    "    # Predictions for the training, validation, and test data.\n",
    "    train_prediction = tf.nn.softmax(logits)\n",
    "\n",
    "    ## validation operation\n",
    "    valid_prediction1 = tf.nn.relu(tf.matmul(tf_valid_dataset, weights1) + biases1)\n",
    "    valid_prediction = tf.nn.softmax(tf.matmul(valid_prediction1, weights) + biases)\n",
    "\n",
    "    #test operation\n",
    "    test_prediction1 = tf.nn.relu(tf.matmul(tf_test_dataset,weights1) + biases1)\n",
    "    test_prediction = tf.nn.softmax(tf.matmul(test_prediction1, weights) + biases)"
   ]
  },
  {
   "cell_type": "code",
   "execution_count": 8,
   "metadata": {
    "collapsed": false
   },
   "outputs": [
    {
     "name": "stdout",
     "output_type": "stream",
     "text": [
      "Initialized\n",
      "\n",
      "At step 0 \n",
      "-----------\n",
      "Minibatch loss 766.146790\n",
      "Minibatch accuracy: 0.0%\n",
      "Validation accuracy: 14.4%\n",
      "\n",
      "At step 500 \n",
      "-----------\n",
      "Minibatch loss 2717493761560777180747661312.000000\n",
      "Minibatch accuracy: 20.0%\n",
      "Validation accuracy: 27.7%\n",
      "\n",
      "At step 1000 \n",
      "-----------\n",
      "Minibatch loss nan\n",
      "Minibatch accuracy: 0.0%\n",
      "Validation accuracy: 10.0%\n",
      "\n",
      "At step 1500 \n",
      "-----------\n",
      "Minibatch loss nan\n",
      "Minibatch accuracy: 20.0%\n",
      "Validation accuracy: 10.0%\n",
      "\n",
      "At step 2000 \n",
      "-----------\n",
      "Minibatch loss nan\n",
      "Minibatch accuracy: 0.0%\n",
      "Validation accuracy: 10.0%\n",
      "\n",
      "At step 2500 \n",
      "-----------\n",
      "Minibatch loss nan\n",
      "Minibatch accuracy: 40.0%\n",
      "Validation accuracy: 10.0%\n",
      "\n",
      "At step 3000 \n",
      "-----------\n",
      "Minibatch loss nan\n",
      "Minibatch accuracy: 20.0%\n",
      "Validation accuracy: 10.0%\n",
      "\n",
      "Test accuracy: 10.0%\n",
      "\n",
      "Spend seconds: 8\n"
     ]
    }
   ],
   "source": [
    "from time import time\n",
    "start = time()\n",
    "\n",
    "num_steps = 3001\n",
    "\n",
    "with tf.Session(graph=graph) as session:\n",
    "    \n",
    "    tf.initialize_all_variables().run()\n",
    "    print(\"Initialized\")\n",
    "    print('')\n",
    "    \n",
    "    for step in range(num_steps):\n",
    "        \n",
    "        # Pick an offset within the training data, which has been randomized.\n",
    "        # Note: we could use better randomization across epochs.\n",
    "        offset = (step * batch_size) % (train_labels.shape[0] - batch_size)\n",
    "        \n",
    "        # Generate a minibatch.\n",
    "        batch_data = train_dataset[offset:(offset + batch_size), :]\n",
    "        batch_labels = train_labels[offset:(offset + batch_size), :]\n",
    "        \n",
    "        # Prepare a dictionary telling the session where to feed the minibatch.\n",
    "        # The key of the dictionary is the placeholder node of the graph to be fed,\n",
    "        # and the value is the numpy array to feed to it.\n",
    "        feed_dict = {tf_train_dataset : batch_data, tf_train_labels : batch_labels}\n",
    "        _, l, predictions = session.run([optimizer, loss, train_prediction], feed_dict=feed_dict)\n",
    "        \n",
    "        if (step % 500 == 0):\n",
    "            print('At step %d ' % step)\n",
    "            print('-----------')\n",
    "            print(\"Minibatch loss %f\" % l)\n",
    "            print(\"Minibatch accuracy: %.1f%%\" % accuracy(predictions, batch_labels))\n",
    "            print(\"Validation accuracy: %.1f%%\" % accuracy(valid_prediction.eval(), valid_labels))\n",
    "            print('')\n",
    "            \n",
    "    print(\"Test accuracy: %.1f%%\" % accuracy(test_prediction.eval(), test_labels))\n",
    "\n",
    "end = time()\n",
    "print('')\n",
    "print('Spend seconds: %d' % (end - start))"
   ]
  },
  {
   "cell_type": "markdown",
   "metadata": {
    "colab_type": "text",
    "id": "ww3SCBUdlkRc"
   },
   "source": [
    "## Problem 3 - Dropout\n",
    "\n",
    "Introduce Dropout on the hidden layer of the neural network. Remember: Dropout should only be introduced during training, not evaluation, otherwise your evaluation results would be stochastic as well. TensorFlow provides `nn.dropout()` for that, but you have to make sure it's only inserted during training.\n",
    "\n",
    "What happens to our extreme overfitting case?\n",
    "\n",
    "---"
   ]
  },
  {
   "cell_type": "code",
   "execution_count": 13,
   "metadata": {
    "collapsed": true
   },
   "outputs": [],
   "source": [
    "##################################################\n",
    "# SGD with 1-hidden layer n.n. with RUL's and L2 #\n",
    "##################################################\n",
    "# Dropout #\n",
    "###########\n",
    "\n",
    "batch_size = 128\n",
    "hidden1_units = 1024\n",
    "beta = 0.003\n",
    "\n",
    "graph = tf.Graph()\n",
    "with graph.as_default():\n",
    "\n",
    "    # Input data. For the training data, we use a placeholder that will be fed\n",
    "    # at run time with a training minibatch.\n",
    "    tf_train_dataset = tf.placeholder(tf.float32, shape=(batch_size, image_size * image_size))\n",
    "    tf_train_labels = tf.placeholder(tf.float32, shape=(batch_size, num_labels))\n",
    "    tf_valid_dataset = tf.constant(valid_dataset)\n",
    "    tf_test_dataset = tf.constant(test_dataset)\n",
    "\n",
    "    # Set hidden layer 1\n",
    "    weights1 = tf.Variable(tf.truncated_normal([image_size * image_size, hidden1_units]))\n",
    "    biases1 = tf.Variable(tf.zeros([hidden1_units]))\n",
    "    hidden1 = tf.nn.relu(tf.matmul(tf_train_dataset, weights1) + biases1)\n",
    "    hidden1=tf.nn.dropout(hidden1, 0.5)\n",
    "\n",
    "    # Set final layer variables\n",
    "    weights = tf.Variable(tf.truncated_normal([hidden1_units, num_labels]))\n",
    "    biases = tf.Variable(tf.zeros([num_labels]))\n",
    "\n",
    "    # Training computation.\n",
    "    logits = tf.matmul(hidden1, weights) + biases\n",
    "    loss = tf.reduce_mean(tf.nn.softmax_cross_entropy_with_logits(logits, tf_train_labels))\n",
    "    loss = loss + 0.5*beta*(tf.nn.l2_loss(weights1) + tf.nn.l2_loss(weights))\n",
    "\n",
    "    # Optimizer.\n",
    "    optimizer = tf.train.GradientDescentOptimizer(0.5).minimize(loss)\n",
    "\n",
    "    # Predictions for the training, validation, and test data.\n",
    "    train_prediction = tf.nn.softmax(logits)\n",
    "\n",
    "    ## validation operation\n",
    "    valid_prediction1 =  tf.nn.relu(tf.matmul(tf_valid_dataset, weights1) + biases1)\n",
    "    valid_prediction = tf.nn.softmax(tf.matmul(valid_prediction1, weights) + biases)\n",
    "\n",
    "    test_prediction1 = tf.nn.relu(tf.matmul(tf_test_dataset, weights1) + biases1)\n",
    "    test_prediction = tf.nn.softmax(tf.matmul(test_prediction1, weights) + biases)"
   ]
  },
  {
   "cell_type": "code",
   "execution_count": 14,
   "metadata": {
    "collapsed": false
   },
   "outputs": [
    {
     "name": "stdout",
     "output_type": "stream",
     "text": [
      "Initialized\n",
      "\n",
      "At step 0 \n",
      "-----------\n",
      "Minibatch loss 948.596985\n",
      "Minibatch accuracy: 11.7%\n",
      "Validation accuracy: 26.3%\n",
      "\n",
      "At step 500 \n",
      "-----------\n",
      "Minibatch loss 232.800064\n",
      "Minibatch accuracy: 77.3%\n",
      "Validation accuracy: 79.0%\n",
      "\n",
      "At step 1000 \n",
      "-----------\n",
      "Minibatch loss 107.441811\n",
      "Minibatch accuracy: 73.4%\n",
      "Validation accuracy: 81.9%\n",
      "\n",
      "At step 1500 \n",
      "-----------\n",
      "Minibatch loss 49.076801\n",
      "Minibatch accuracy: 78.9%\n",
      "Validation accuracy: 84.0%\n",
      "\n",
      "At step 2000 \n",
      "-----------\n",
      "Minibatch loss 23.401136\n",
      "Minibatch accuracy: 80.5%\n",
      "Validation accuracy: 85.7%\n",
      "\n",
      "At step 2500 \n",
      "-----------\n",
      "Minibatch loss 11.350611\n",
      "Minibatch accuracy: 78.9%\n",
      "Validation accuracy: 86.3%\n",
      "\n",
      "At step 3000 \n",
      "-----------\n",
      "Minibatch loss 5.746343\n",
      "Minibatch accuracy: 79.7%\n",
      "Validation accuracy: 86.6%\n",
      "\n",
      "Test accuracy: 92.3%\n",
      "\n",
      "Spend seconds: 12\n"
     ]
    }
   ],
   "source": [
    "from time import time\n",
    "start = time()\n",
    "\n",
    "num_steps = 3001\n",
    "\n",
    "with tf.Session(graph=graph) as session:\n",
    "    \n",
    "    tf.initialize_all_variables().run()\n",
    "    print(\"Initialized\")\n",
    "    print('')\n",
    "    \n",
    "    for step in range(num_steps):\n",
    "        \n",
    "        # Pick an offset within the training data, which has been randomized.\n",
    "        # Note: we could use better randomization across epochs.\n",
    "        offset = (step * batch_size) % (train_labels.shape[0] - batch_size)\n",
    "        \n",
    "        # Generate a minibatch.\n",
    "        batch_data = train_dataset[offset:(offset + batch_size), :]\n",
    "        batch_labels = train_labels[offset:(offset + batch_size), :]\n",
    "        \n",
    "        # Prepare a dictionary telling the session where to feed the minibatch.\n",
    "        # The key of the dictionary is the placeholder node of the graph to be fed,\n",
    "        # and the value is the numpy array to feed to it.\n",
    "        feed_dict = {tf_train_dataset : batch_data, tf_train_labels : batch_labels}\n",
    "        _, l, predictions = session.run([optimizer, loss, train_prediction], feed_dict=feed_dict)\n",
    "        \n",
    "        if (step % 500 == 0):\n",
    "            print('At step %d ' % step)\n",
    "            print('-----------')\n",
    "            print(\"Minibatch loss %f\" % l)\n",
    "            print(\"Minibatch accuracy: %.1f%%\" % accuracy(predictions, batch_labels))\n",
    "            print(\"Validation accuracy: %.1f%%\" % accuracy(valid_prediction.eval(), valid_labels))\n",
    "            print('')\n",
    "            \n",
    "    print(\"Test accuracy: %.1f%%\" % accuracy(test_prediction.eval(), test_labels))\n",
    "\n",
    "end = time()\n",
    "print('')\n",
    "print('Spend seconds: %d' % (end - start))"
   ]
  },
  {
   "cell_type": "markdown",
   "metadata": {
    "colab_type": "text",
    "id": "-b1hTz3VWZjw"
   },
   "source": [
    "## Problem 4 - Try to get the best performance\n",
    "\n",
    "Try to get the best performance you can using a multi-layer model! The best reported test accuracy using a deep network is [97.1%](http://yaroslavvb.blogspot.com/2011/09/notmnist-dataset.html?showComment=1391023266211#c8758720086795711595).\n",
    "\n",
    "One avenue you can explore is to add multiple layers.\n",
    "\n",
    "Another one is to use learning rate decay:\n",
    "\n",
    "    global_step = tf.Variable(0)  # count the number of steps taken.\n",
    "    learning_rate = tf.train.exponential_decay(0.5, global_step, ...)\n",
    "    optimizer = tf.train.GradientDescentOptimizer(learning_rate).minimize(loss, global_step=global_step)\n",
    "    \n",
    "---"
   ]
  },
  {
   "cell_type": "code",
   "execution_count": 15,
   "metadata": {
    "collapsed": true
   },
   "outputs": [],
   "source": [
    "import math as math\n",
    "\n",
    "batch_size = 128\n",
    "initial_learning_rate_value = 0.5\n",
    "beta1 = 0.001\n",
    "beta2 = 0.001\n",
    "beta3 = 0.001\n",
    "beta4 = 0.001\n",
    "beta5 = 0.001\n",
    "\n",
    "graph = tf.Graph()\n",
    "with graph.as_default():\n",
    "\n",
    "    # Input data. For the training data, we use a placeholder that will be fed\n",
    "    # at run time with a training minibatch.\n",
    "    tf_train_dataset = tf.placeholder(tf.float32, shape=(batch_size, image_size * image_size))\n",
    "    tf_train_labels = tf.placeholder(tf.float32, shape=(batch_size, num_labels))\n",
    "    tf_valid_dataset = tf.constant(valid_dataset)\n",
    "    tf_test_dataset = tf.constant(test_dataset)    \n",
    "\n",
    "    # learning rate decay\n",
    "    global_step = tf.Variable(0)\n",
    "    learning_rate = tf.train.exponential_decay(initial_learning_rate_value, global_step, 100, 0.95)\n",
    "\n",
    "    # Hidden layer 1\n",
    "    h1_size = 1024  \n",
    "    weights_h1 = tf.Variable(tf.truncated_normal([image_size * image_size, h1_size], stddev=math.sqrt(2.0/(image_size*image_size))))\n",
    "    biases_h1 = tf.Variable(tf.zeros([h1_size]))\n",
    "    h1 = tf.nn.relu(tf.matmul(tf_train_dataset, weights_h1) + biases_h1)\n",
    "    h1 =tf.nn.dropout(h1, 0.5)\n",
    "\n",
    "    # Hidden layer 2\n",
    "    h2_size = 1024\n",
    "    weights_h2 = tf.Variable(tf.truncated_normal([h1_size, h2_size], stddev=math.sqrt(2.0/h1_size)))\n",
    "    biases_h2 = tf.Variable(tf.zeros([h2_size]))\n",
    "    h2 = tf.nn.relu(tf.matmul(h1, weights_h2) + biases_h2)\n",
    "    h2 =tf.nn.dropout(h2, 0.5)\n",
    "\n",
    "    # Hidden layer 3\n",
    "    h3_size = 305\n",
    "    weights_h3 = tf.Variable(tf.truncated_normal([h2_size, h3_size], stddev=math.sqrt(2.0/h2_size)))\n",
    "    biases_h3 = tf.Variable(tf.zeros([h3_size]))\n",
    "    h3 = tf.nn.relu(tf.matmul(h2, weights_h3) + biases_h3)\n",
    "    h3 =tf.nn.dropout(h3, 0.5)\n",
    "\n",
    "    # Hidden layer 4\n",
    "    h4_size = 75\n",
    "    weights_h4 = tf.Variable(tf.truncated_normal([h3_size, h4_size], stddev=math.sqrt(2.0/h3_size)))\n",
    "    biases_h4 = tf.Variable(tf.zeros([h4_size]))\n",
    "    h4 = tf.nn.relu(tf.matmul(h3, weights_h4) + biases_h4)\n",
    "    h4 =tf.nn.dropout(h4, 0.5)\n",
    "\n",
    "    # Output layer\n",
    "    weights_o = tf.Variable(tf.truncated_normal([h4_size, num_labels], stddev=math.sqrt(2.0/h4_size)))\n",
    "    biases_o = tf.Variable(tf.zeros([num_labels]))\n",
    "\n",
    "    # Training computation.\n",
    "    logits = tf.matmul(h4, weights_o) + biases_o\n",
    "    loss = tf.reduce_mean(tf.nn.softmax_cross_entropy_with_logits(logits, tf_train_labels)) + ((beta1 * tf.nn.l2_loss(weights_h1)) + (beta2 * tf.nn.l2_loss(weights_h2)) + (beta3 * tf.nn.l2_loss(weights_h3)) + (beta4 * tf.nn.l2_loss(weights_h4)) + (beta5 * tf.nn.l2_loss(weights_o)))\n",
    "\n",
    "    # Optimizer.\n",
    "    optimizer = tf.train.GradientDescentOptimizer(learning_rate).minimize(loss, global_step=global_step)\n",
    "\n",
    "    # Predictions for the training, validation, and test data.\n",
    "    train_h1 = tf.nn.relu(tf.matmul(tf_train_dataset, weights_h1) + biases_h1)\n",
    "    train_h2 = tf.nn.relu(tf.matmul(train_h1, weights_h2) + biases_h2)\n",
    "    train_h3 = tf.nn.relu(tf.matmul(train_h2, weights_h3) + biases_h3)\n",
    "    train_h4 = tf.nn.relu(tf.matmul(train_h3, weights_h4) + biases_h4)\n",
    "    train_logits = tf.matmul(train_h4, weights_o) + biases_o\n",
    "    train_prediction = tf.nn.softmax(train_logits)\n",
    "\n",
    "    valid_h1 = tf.nn.relu(tf.matmul(tf_valid_dataset, weights_h1) + biases_h1)\n",
    "    valid_h2 = tf.nn.relu(tf.matmul(valid_h1, weights_h2) + biases_h2)\n",
    "    valid_h3 = tf.nn.relu(tf.matmul(valid_h2, weights_h3) + biases_h3)\n",
    "    valid_h4 = tf.nn.relu(tf.matmul(valid_h3, weights_h4) + biases_h4)\n",
    "    valid_logits = tf.matmul(valid_h4, weights_o) + biases_o\n",
    "    valid_prediction = tf.nn.softmax(valid_logits)\n",
    "\n",
    "    test_h1 = tf.nn.relu(tf.matmul(tf_test_dataset, weights_h1) + biases_h1)\n",
    "    test_h2 = tf.nn.relu(tf.matmul(test_h1, weights_h2) + biases_h2)\n",
    "    test_h3 = tf.nn.relu(tf.matmul(test_h2, weights_h3) + biases_h3)\n",
    "    test_h4 = tf.nn.relu(tf.matmul(test_h3, weights_h4) + biases_h4)\n",
    "    test_logits = tf.matmul(test_h4, weights_o) + biases_o\n",
    "    test_prediction = tf.nn.softmax(test_logits)"
   ]
  },
  {
   "cell_type": "code",
   "execution_count": 16,
   "metadata": {
    "collapsed": false
   },
   "outputs": [
    {
     "name": "stdout",
     "output_type": "stream",
     "text": [
      "Initialized\n",
      "\n",
      "At step 0 \n",
      "-----------\n",
      "Minibatch loss 5.009369\n",
      "Minibatch accuracy: 10.2%\n",
      "Validation accuracy: 15.1%\n",
      "\n",
      "At step 500 \n",
      "-----------\n",
      "Minibatch loss 1.968390\n",
      "Minibatch accuracy: 81.2%\n",
      "Validation accuracy: 84.7%\n",
      "\n",
      "At step 1000 \n",
      "-----------\n",
      "Minibatch loss 1.729009\n",
      "Minibatch accuracy: 79.7%\n",
      "Validation accuracy: 85.8%\n",
      "\n",
      "At step 1500 \n",
      "-----------\n",
      "Minibatch loss 1.272528\n",
      "Minibatch accuracy: 86.7%\n",
      "Validation accuracy: 86.4%\n",
      "\n",
      "At step 2000 \n",
      "-----------\n",
      "Minibatch loss 1.156162\n",
      "Minibatch accuracy: 87.5%\n",
      "Validation accuracy: 87.2%\n",
      "\n",
      "At step 2500 \n",
      "-----------\n",
      "Minibatch loss 1.203414\n",
      "Minibatch accuracy: 84.4%\n",
      "Validation accuracy: 87.5%\n",
      "\n",
      "At step 3000 \n",
      "-----------\n",
      "Minibatch loss 1.073765\n",
      "Minibatch accuracy: 85.2%\n",
      "Validation accuracy: 87.8%\n",
      "\n",
      "Test accuracy: 93.3%\n",
      "\n",
      "Spend seconds: 30\n"
     ]
    }
   ],
   "source": [
    "from time import time\n",
    "start = time()\n",
    "\n",
    "num_steps = 3001\n",
    "\n",
    "with tf.Session(graph=graph) as session:\n",
    "    \n",
    "    tf.initialize_all_variables().run()\n",
    "    print(\"Initialized\")\n",
    "    print('')\n",
    "    \n",
    "    for step in range(num_steps):\n",
    "        \n",
    "        # Pick an offset within the training data, which has been randomized.\n",
    "        # Note: we could use better randomization across epochs.\n",
    "        offset = (step * batch_size) % (train_labels.shape[0] - batch_size)\n",
    "        \n",
    "        # Generate a minibatch.\n",
    "        batch_data = train_dataset[offset:(offset + batch_size), :]\n",
    "        batch_labels = train_labels[offset:(offset + batch_size), :]\n",
    "        \n",
    "        # Prepare a dictionary telling the session where to feed the minibatch.\n",
    "        # The key of the dictionary is the placeholder node of the graph to be fed,\n",
    "        # and the value is the numpy array to feed to it.\n",
    "        feed_dict = {tf_train_dataset : batch_data, tf_train_labels : batch_labels}\n",
    "        _, l, predictions = session.run([optimizer, loss, train_prediction], feed_dict=feed_dict)\n",
    "        \n",
    "        if (step % 500 == 0):\n",
    "            print('At step %d ' % step)\n",
    "            print('-----------')\n",
    "            print(\"Minibatch loss %f\" % l)\n",
    "            print(\"Minibatch accuracy: %.1f%%\" % accuracy(predictions, batch_labels))\n",
    "            print(\"Validation accuracy: %.1f%%\" % accuracy(valid_prediction.eval(), valid_labels))\n",
    "            print('')\n",
    "            \n",
    "    print(\"Test accuracy: %.1f%%\" % accuracy(test_prediction.eval(), test_labels))\n",
    "\n",
    "end = time()\n",
    "print('')\n",
    "print('Spend seconds: %d' % (end - start))"
   ]
  }
 ],
 "metadata": {
  "colab": {
   "default_view": {},
   "name": "3_regularization.ipynb",
   "provenance": [],
   "version": "0.3.2",
   "views": {}
  },
  "kernelspec": {
   "display_name": "Python 3",
   "language": "python",
   "name": "python3"
  },
  "language_info": {
   "codemirror_mode": {
    "name": "ipython",
    "version": 3
   },
   "file_extension": ".py",
   "mimetype": "text/x-python",
   "name": "python",
   "nbconvert_exporter": "python",
   "pygments_lexer": "ipython3",
   "version": "3.4.3"
  }
 },
 "nbformat": 4,
 "nbformat_minor": 0
}
